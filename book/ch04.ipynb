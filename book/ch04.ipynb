{
 "cells": [
  {
   "cell_type": "markdown",
   "metadata": {},
   "source": [
    "# Chapter 4: Underfitting\n",
    "\n",
    "To analyze the model's abilities, we divide the dataset into two sections:\n",
    "- training set: used to train/fit our model.\n",
    "- test set: dataset that will assess the accuracy of our model against unseen data. It is kept aside during model building, so the model cannot see this data, and thus cannot learn from it.\n",
    "\n",
    "Typically, in the case of statistical forecast models, we use historical demand as the training set to optimize the different parameters ($\\alpha$ for the simple exponential smoothing model). To test our forecast, we can keep the latest periods out of the training set to see how our models behave during these periods.\n",
    "\n",
    "One could say that an underfitted model lacks a good understanding of the train- ing dataset. As the model does not perform properly on the training dataset, it will not perform well on the test set either. In the case of demand forecasting, a model that does not achieve good accuracy on historical demand will not perform properly on future demand either.\n",
    "\n",
    "## Causes of underfitting\n",
    "\n",
    "There are two main reasons for underfit:\n",
    "1. model complexity,\n",
    "2. lack of expanatory variables.\n",
    "\n",
    "\n",
    "We have identified a typical problem with (predictive) models: underfitting. That is to say that a model is not smart enough to understand the relationships present in the training data. Two solutions can be used to increase the predictive abilities of an underfitted model:\n",
    " - Use more explanatory variables (such as weekdays/weekends, marketing ex- penses, pricing).\n",
    " - Change the model to a more complex one (add a trend, a seasonality).\n"
   ]
  },
  {
   "cell_type": "code",
   "execution_count": null,
   "metadata": {},
   "outputs": [],
   "source": []
  }
 ],
 "metadata": {
  "language_info": {
   "name": "python"
  },
  "orig_nbformat": 4
 },
 "nbformat": 4,
 "nbformat_minor": 2
}
