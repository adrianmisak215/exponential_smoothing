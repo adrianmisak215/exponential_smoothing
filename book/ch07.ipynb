{
 "cells": [
  {
   "cell_type": "markdown",
   "metadata": {},
   "source": [
    "# Chapter 7: Double Smoothing with Damped Trend\n",
    "\n",
    "One of the limitations of the double smoothing model is the fact that the trend is assumed to go forever. An idea was introduced to add a new layer of intelligence to the ouble exponential model: a *damping factor*, $\\phi$, that will exponentially reduce the trend over time. One could say that the model forgets the trend over time, and thay it remembers only a fraction of the previous estimated trend.\n",
    "\n",
    "Practically, the trend ($b$) will be reduced by a factor $\\phi \\in [0, 1]$ in each period. In practice, the value of $\\phi$ is somewhere between 0.7 and 1. At the edge cases, for $\\phi=0$ we have the simple exponential smoothing forecast, and for $\\phi=1$ the damping is removed and we deal with a double smoothing model.\n",
    "\n",
    "## Model\n",
    "\n",
    "The model is very similar to the double smoothing model, but all $b_{t-1}$ occurrences are multiplied by $\\phi$:\n",
    "\n",
    "$$a_t = \\alpha d_t + (1-\\alpha)(a_{t-1} + \\phi b_{t-1}),$$\n",
    "$$b_t = \\beta(a_t - a_{t-1}) + (1-\\beta)\\phi b_{t-1}.$$\n",
    "\n",
    "The forecast for the next period will be: $f_{t+1}=a_t + \\phi b_t$, and for period $t+\\lambda$:\n",
    "$$f_{t+\\lambda} = a_t + b_t\\sum_{i=1}^{\\lambda}\\phi^{i}$$"
   ]
  },
  {
   "cell_type": "code",
   "execution_count": 1,
   "metadata": {},
   "outputs": [],
   "source": [
    "import support\n",
    "\n",
    "d = [28,19,18,13,19,16,19,18,13,16,16,11,18,15,13,15,13,11,13,10,12]\n",
    "df = support.double_exp_smooth_damped(d, extra_periods=4)"
   ]
  },
  {
   "cell_type": "code",
   "execution_count": 2,
   "metadata": {},
   "outputs": [
    {
     "name": "stdout",
     "output_type": "stream",
     "text": [
      "Bias: 1.64, 11.02%\n",
      "MAPE: 22.75%\n",
      "MAE: 3.48, 23.38%\n",
      "RMSE: 4.72, 31.68%\n"
     ]
    }
   ],
   "source": [
    "support.kpi(df)"
   ]
  },
  {
   "cell_type": "code",
   "execution_count": null,
   "metadata": {},
   "outputs": [],
   "source": []
  }
 ],
 "metadata": {
  "kernelspec": {
   "display_name": "venv",
   "language": "python",
   "name": "python3"
  },
  "language_info": {
   "codemirror_mode": {
    "name": "ipython",
    "version": 3
   },
   "file_extension": ".py",
   "mimetype": "text/x-python",
   "name": "python",
   "nbconvert_exporter": "python",
   "pygments_lexer": "ipython3",
   "version": "3.11.5"
  },
  "orig_nbformat": 4
 },
 "nbformat": 4,
 "nbformat_minor": 2
}
