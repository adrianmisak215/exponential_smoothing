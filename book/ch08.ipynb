{
 "cells": [
  {
   "cell_type": "markdown",
   "metadata": {},
   "source": [
    "# Chapter 8: Overfitting\n",
    "\n",
    "In Chapter 4, we saw the issue of underfitting a dataset. This happens when a model is not able to learn the patterns present in the training dataset. As we saw, underfitting is most likely due to the model not being smart enough to understand the patterns in the training dataset. This could be solved by using a more complex model.\n",
    "\n",
    "On the other end of the spectrum, we have the risk for a model to overfit a dataset. If a model overfits the data, it means that it has recognized (or learned) patterns from the noise (i. e., randomness) of the training set. As it has learned patterns from the noise, it will reapply these patterns in the future on new data. This will create an issue as the model will show (very) good results on the training dataset but will fail to make good predictions on the test set. In a forecasting model, that means that your model will show good accuracy on historical demand but will fail to deliver as good results on future demand.\n",
    "\n",
    "So how do we protect ourselves from this overfitting trap?\n",
    "- Use fewer explanatory variables (or a simpler model). The more explanatory variables the model has, the more possibilities it will have to recognize patterns in the noise. This will become a bigger problem with machine learning models—as we will see in Part II—for which we will have to use many specific techniques to fight overfitting. But it can also happen with exponential smoothing models. We will see two seasonal models in Chapters 9 and 11 that might recognize (and extrapolate) seasonality where there is none. Do not use a too complex model to fit a simple demand pattern.\n",
    "- Use more data. More data will reduce the probability of seeing fake patterns.\n",
    "\n",
    "\n"
   ]
  },
  {
   "cell_type": "markdown",
   "metadata": {},
   "source": []
  },
  {
   "cell_type": "code",
   "execution_count": null,
   "metadata": {},
   "outputs": [],
   "source": []
  }
 ],
 "metadata": {
  "language_info": {
   "name": "python"
  },
  "orig_nbformat": 4
 },
 "nbformat": 4,
 "nbformat_minor": 2
}
