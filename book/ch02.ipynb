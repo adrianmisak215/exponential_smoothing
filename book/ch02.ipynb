{
 "cells": [
  {
   "cell_type": "markdown",
   "metadata": {},
   "source": [
    "# Chapter 2: Forecast KPI\n",
    "\n",
    "Once a model is developed, we need to quantify its accuracy. Measuring forecast accuracy (or error) is not an easy task. Experimentation will show which KPI is the best for you. Each indicator will avoid some pitfalls, but will be prone to others.\n",
    "\n",
    "First, we distinguish between accuracy and bias:\n",
    "1. **accuracy**: measures how much spread you had between your forecasts and the actual values. It gives an idea of the magnitude of the errors, but not their overall direction,\n",
    "2. **bias**: represents the overall direction of the historical average error. It measures if your forecasts were on average too high (overshot the demand), or too low (undershot the demand).\n",
    "\n",
    "We want to have a forecast that is both accurate and unbiased. An error during one period is defined as the difference between the forecast and the demand:\n",
    "$$e_t = f_t - d_t.$$\n",
    "\n",
    "\n",
    "## Bias\n",
    "\n",
    "The average bias of a forecast is defined as its average error:\n",
    "\n",
    "$$\\text{bias} = \\frac{1}{n}\\sum e_t,$$\n",
    "where $n$ is the number of historical periods where you have both a forecast and a demand. The bias alone is not enough to evaluate the forecast accuracy (positive error can offset a negative error from another period), but a highly biased model is an indication that something is wrong in the model. It usually brings no insights to compute the bias of one item during one period. You should either compute it for many products at once (during one period) or compute it for a single item over many periods (best to perform its computation over a full season cycle).\n",
    "\n",
    "This formula will give an answer which is hard to interpret. Without information about average demand, it is  difficult to say if the bias is \"good\". Therefore, a more relevant KPI would be the scaled bias, where the bias is divided by the average demand:\n",
    "$$\\text{bias \\%} = \\frac{\\sum e_t}{\\sum d_t}.$$"
   ]
  },
  {
   "cell_type": "code",
   "execution_count": 1,
   "metadata": {},
   "outputs": [
    {
     "name": "stdout",
     "output_type": "stream",
     "text": [
      "Bias: 22.95, 15.33%\n",
      "MAPE: 29.31%\n",
      "MAE: 42.29, 28.24%\n",
      "RMSE: 43.20, 28.85%\n"
     ]
    }
   ],
   "source": [
    "import support\n",
    "\n",
    "d = [37, 60, 85, 112, 132, 145, 179, 198, 150, 132]\n",
    "df = support.moving_average(d, extra_periods=4, n=3)\n",
    "support.kpi(df)"
   ]
  },
  {
   "cell_type": "markdown",
   "metadata": {},
   "source": [
    "## MAPE\n",
    "\n",
    "The Mean Absolute Percentage Error (MAPE) is one of the most commonly used KPIs to measure forecast accuracy. It is computed as the average of the individual absolute errors divided by the demand (each period calculated separately):\n",
    "$$MAPE = \\frac{1}{n}\\sum \\frac{|e_t|}{d_t}.$$\n",
    "\n",
    "This metric is quite well-known, despite being a really poor accuracy indicator. It is skewed in the sense that high errors during ow-demand periods will have a major impact on MAPE. Extremely low forecasts (0 for all periods) will result in a maximum error of $100\\%$, but too-high forecast will not be capped to a specific percentage error. Due to this, optimizing MAPE will result in a strane forecast that will most likely undershoot the demand."
   ]
  },
  {
   "cell_type": "code",
   "execution_count": 2,
   "metadata": {},
   "outputs": [
    {
     "name": "stdout",
     "output_type": "stream",
     "text": [
      "Bias: 22.95, 15.33%\n",
      "MAPE: 29.31%\n",
      "MAE: 42.29, 28.24%\n",
      "RMSE: 43.20, 28.85%\n"
     ]
    }
   ],
   "source": [
    "support.kpi(df)"
   ]
  },
  {
   "cell_type": "markdown",
   "metadata": {},
   "source": [
    "## MAE\n",
    "\n",
    "The Mean Absolute Error (MAE) is a very good KPI to measure forecast accuracy. It is the mean of the absolute error:\n",
    "$$MAE = \\frac{1}{n} \\sum |e_t|.$$\n",
    "\n",
    "The evaluation of the metric is highly dependent on the average demand during the period, so a scaled percentage MAE can also be defined:\n",
    "\n",
    "$$MAE\\% = \\frac{\\sum |e_t|}{\\sum d_t}$$"
   ]
  },
  {
   "cell_type": "code",
   "execution_count": 3,
   "metadata": {},
   "outputs": [
    {
     "name": "stdout",
     "output_type": "stream",
     "text": [
      "Bias: 22.95, 15.33%\n",
      "MAPE: 29.31%\n",
      "MAE: 42.29, 28.24%\n",
      "RMSE: 43.20, 28.85%\n"
     ]
    }
   ],
   "source": [
    "support.kpi(df)"
   ]
  },
  {
   "cell_type": "markdown",
   "metadata": {},
   "source": [
    "## RMSE \n",
    "\n",
    "The Root Mean Square Error (RMSE) is difficult to interpret, as it is the square root of the average forecast error:\n",
    "$$RMSE = \\sqrt{\\frac{1}{n}\\sum e_t^2}.$$\n",
    "\n",
    "Just like with MAE, RMSE is not scaled to the demand, so it needs to be put in percentages to be understandable:\n",
    "$$RMSE\\% = \\frac{RMSE}{\\frac{1}{n}\\sum d_t}$$"
   ]
  },
  {
   "cell_type": "code",
   "execution_count": 4,
   "metadata": {},
   "outputs": [
    {
     "name": "stdout",
     "output_type": "stream",
     "text": [
      "Bias: 22.95, 15.33%\n",
      "MAPE: 29.31%\n",
      "MAE: 42.29, 28.24%\n",
      "RMSE: 43.20, 28.85%\n"
     ]
    }
   ],
   "source": [
    "support.kpi(df)"
   ]
  },
  {
   "cell_type": "markdown",
   "metadata": {},
   "source": [
    "## Which forecast KPI to choose?\n",
    "\n",
    "Imagine a product with a low and rather flat weekly demand that occasionally has a big order."
   ]
  },
  {
   "cell_type": "code",
   "execution_count": 5,
   "metadata": {},
   "outputs": [
    {
     "data": {
      "text/html": [
       "<div>\n",
       "<style scoped>\n",
       "    .dataframe tbody tr th:only-of-type {\n",
       "        vertical-align: middle;\n",
       "    }\n",
       "\n",
       "    .dataframe tbody tr th {\n",
       "        vertical-align: top;\n",
       "    }\n",
       "\n",
       "    .dataframe thead th {\n",
       "        text-align: right;\n",
       "    }\n",
       "</style>\n",
       "<table border=\"1\" class=\"dataframe\">\n",
       "  <thead>\n",
       "    <tr style=\"text-align: right;\">\n",
       "      <th></th>\n",
       "      <th>day</th>\n",
       "      <th>W1</th>\n",
       "      <th>W2</th>\n",
       "      <th>W3</th>\n",
       "      <th>W4</th>\n",
       "      <th>W5</th>\n",
       "    </tr>\n",
       "  </thead>\n",
       "  <tbody>\n",
       "    <tr>\n",
       "      <th>0</th>\n",
       "      <td>Mon</td>\n",
       "      <td>3</td>\n",
       "      <td>3</td>\n",
       "      <td>4</td>\n",
       "      <td>1</td>\n",
       "      <td>5</td>\n",
       "    </tr>\n",
       "    <tr>\n",
       "      <th>1</th>\n",
       "      <td>Tue</td>\n",
       "      <td>1</td>\n",
       "      <td>4</td>\n",
       "      <td>1</td>\n",
       "      <td>2</td>\n",
       "      <td>2</td>\n",
       "    </tr>\n",
       "    <tr>\n",
       "      <th>2</th>\n",
       "      <td>Wed</td>\n",
       "      <td>5</td>\n",
       "      <td>5</td>\n",
       "      <td>1</td>\n",
       "      <td>1</td>\n",
       "      <td>12</td>\n",
       "    </tr>\n",
       "    <tr>\n",
       "      <th>3</th>\n",
       "      <td>Thu</td>\n",
       "      <td>20</td>\n",
       "      <td>4</td>\n",
       "      <td>3</td>\n",
       "      <td>2</td>\n",
       "      <td>1</td>\n",
       "    </tr>\n",
       "    <tr>\n",
       "      <th>4</th>\n",
       "      <td>Fri</td>\n",
       "      <td>13</td>\n",
       "      <td>16</td>\n",
       "      <td>14</td>\n",
       "      <td>5</td>\n",
       "      <td>20</td>\n",
       "    </tr>\n",
       "  </tbody>\n",
       "</table>\n",
       "</div>"
      ],
      "text/plain": [
       "   day  W1  W2  W3  W4  W5\n",
       "0  Mon   3   3   4   1   5\n",
       "1  Tue   1   4   1   2   2\n",
       "2  Wed   5   5   1   1  12\n",
       "3  Thu  20   4   3   2   1\n",
       "4  Fri  13  16  14   5  20"
      ]
     },
     "execution_count": 5,
     "metadata": {},
     "output_type": "execute_result"
    }
   ],
   "source": [
    "import pandas as pd\n",
    "\n",
    "df = pd.DataFrame({\n",
    "    \"day\": [\"Mon\", \"Tue\", \"Wed\", \"Thu\", \"Fri\"],\n",
    "    \"W1\": [3, 1, 5, 20, 13],\n",
    "    \"W2\": [3, 4, 5, 4, 16],\n",
    "    \"W3\": [4, 1, 1, 3, 14],\n",
    "    \"W4\": [1, 2, 1, 2, 5],\n",
    "    \"W5\": [5, 2, 12, 1, 20]\n",
    "})\n",
    "\n",
    "df"
   ]
  },
  {
   "cell_type": "markdown",
   "metadata": {},
   "source": [
    "Imagine we propose three different forecasts for this product: first one predicts 2 pieces/day, the second one 4, and the last one 6."
   ]
  },
  {
   "cell_type": "code",
   "execution_count": 13,
   "metadata": {},
   "outputs": [
    {
     "data": {
      "text/plain": [
       "<matplotlib.collections.LineCollection at 0x12cdd35d0>"
      ]
     },
     "execution_count": 13,
     "metadata": {},
     "output_type": "execute_result"
    },
    {
     "data": {
      "image/png": "[encoded data removed]",
      "text/plain": [
       "<Figure size 1000x600 with 1 Axes>"
      ]
     },
     "metadata": {},
     "output_type": "display_data"
    }
   ],
   "source": [
    "import matplotlib.pyplot as plt\n",
    "\n",
    "data = df[\"W1\"].to_list() + df[\"W2\"].to_list() + df[\"W3\"].to_list() + df[\"W4\"].to_list() + df[\"W5\"].to_list()\n",
    "\n",
    "plt.figure(figsize = (10, 6))\n",
    "plt.plot(data)\n",
    "plt.hlines(y = 2, xmin = 0, xmax = 24, color = \"red\")\n",
    "plt.hlines(y = 4, xmin = 0, xmax = 24, color = \"orange\")\n",
    "plt.hlines(y = 6, xmin = 0, xmax = 24, color = \"yellow\")"
   ]
  },
  {
   "cell_type": "code",
   "execution_count": 10,
   "metadata": {},
   "outputs": [
    {
     "name": "stdout",
     "output_type": "stream",
     "text": [
      "Bias: -3.92, -66.22%\n",
      "MAPE: 64.45%\n",
      "MAE: 4.40, 74.32%\n",
      "RMSE: 7.12, 120.21%\n"
     ]
    }
   ],
   "source": [
    "model1 = pd.DataFrame({\n",
    "    \"demand\": data,\n",
    "    \"forecast\": [2] * len(data),\n",
    "    \"error\": [2 - x for x in data],\n",
    "})\n",
    "\n",
    "support.kpi(model1)"
   ]
  },
  {
   "cell_type": "code",
   "execution_count": 14,
   "metadata": {},
   "outputs": [
    {
     "name": "stdout",
     "output_type": "stream",
     "text": [
      "Bias: -1.92, -32.43%\n",
      "MAPE: 108.89%\n",
      "MAE: 4.08, 68.92%\n",
      "RMSE: 6.24, 105.44%\n"
     ]
    }
   ],
   "source": [
    "model2 = pd.DataFrame({\n",
    "    \"demand\": data,\n",
    "    \"forecast\": [4] * len(data),\n",
    "    \"error\": [4 - x for x in data],\n",
    "})\n",
    "\n",
    "support.kpi(model2)"
   ]
  },
  {
   "cell_type": "code",
   "execution_count": 15,
   "metadata": {},
   "outputs": [
    {
     "name": "stdout",
     "output_type": "stream",
     "text": [
      "Bias: 0.08, 1.35%\n",
      "MAPE: 179.74%\n",
      "MAE: 4.80, 81.08%\n",
      "RMSE: 5.94, 100.33%\n"
     ]
    }
   ],
   "source": [
    "model3 = pd.DataFrame({\n",
    "    \"demand\": data,\n",
    "    \"forecast\": [6] * len(data),\n",
    "    \"error\": [6 - x for x in data],\n",
    "})\n",
    "\n",
    "support.kpi(model3)"
   ]
  },
  {
   "cell_type": "markdown",
   "metadata": {},
   "source": [
    "Forecast 1 was best in terms of MAPE, but the worst in RMSE. Forecast 2 is the demand median, so it resulted in best MAE. Forecast 3 is the average demand, so it resulted in the best RMSE and bias.\n",
    "\n",
    "## Median vs. Average \n",
    "\n",
    "Before discussing the different forecast KPIs further, let's take some time to under- stand why a forecast of the median will get a good MAE while a forecast of the mean will get a good RMSE.\n",
    "\n",
    "For many products, you will observe that the median demand is not the same as the av- erage demand. The demand will most likely have some peaks here and there that will result in a skewed distribution. These skewed demand distributions are widespread in supply chain, as the peaks can be due to periodic promotions or clients ordering in bulk.\n"
   ]
  },
  {
   "cell_type": "code",
   "execution_count": null,
   "metadata": {},
   "outputs": [],
   "source": []
  }
 ],
 "metadata": {
  "kernelspec": {
   "display_name": "venv",
   "language": "python",
   "name": "python3"
  },
  "language_info": {
   "codemirror_mode": {
    "name": "ipython",
    "version": 3
   },
   "file_extension": ".py",
   "mimetype": "text/x-python",
   "name": "python",
   "nbconvert_exporter": "python",
   "pygments_lexer": "ipython3",
   "version": "3.11.5"
  },
  "orig_nbformat": 4
 },
 "nbformat": 4,
 "nbformat_minor": 2
}
