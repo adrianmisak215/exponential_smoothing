{
 "cells": [
  {
   "cell_type": "markdown",
   "metadata": {},
   "source": [
    "# Chapter 10: Outliers\n",
    "\n",
    "Outliers pop out all the time in modern supply chains. They are mostly due to two main reasons:\n",
    "- Mistakes and Errors: These are obvious outliers. If you spot such kind of errors or encoding mistakes, it calls for process improvement to prevent these from happening again.\n",
    "- Exceptional Demand: Even though some demand observations are real, it does not mean they are not exceptional and shouldn't be cleaned or smoothed. This kind of exceptional sales is actually not so uncommon in supply chains. Think about promotions, marketing, strange customer behaviors, or destocking. Typically, you might not want to take into account for your forecast the exceptional −80% sales you did last year to get rid of an old, nearly obsolete inventory.\n",
    "\n",
    "If you can spot outliers and smooth them out, you will make a better forecast. I have seen numerous examples where the forecast error was reduced by a couple of per- centages, thanks to outlier cleaning. Flagging outliers manually is a time-intensive, error-prone, and un rewarding process; few demand planners will take the time nec- essary to review those. Therefore, the bigger the dataset, the more important it is to automate this detection and cleaning. As data scientists, we automate tasks to scale our processes. Let's see how we can do this for outliers detection.\n",
    "\n",
    "## Idea #1: Winsorization\n",
    "\n",
    "This first technique will simply decrease the top/down $x\\%$ values of our historical demand down to the limit of the $x$-th percentile.\n",
    "\n",
    "## Idea #2: Standard deviation\n",
    "\n",
    "As we just saw, winsorization wasnt the perfect way to exclude outliers, as it would take out high and low values of a dataset even if they werent exceptional, per se. Another approach would be to look at the demand variation around the historical average and exclude the values that are exceptionally far from this average.\n",
    "\n",
    "Let's define the demand standard deviation as $\\sigma$:\n",
    "\n",
    "$$\\sigma = \\sqrt{\\frac{\\sum_i (d_i-\\overline{d})^2}{n}}.$$\n",
    "\n",
    "\n",
    "If we assume that our demand is normally distributed around the historical mean, we can compute the probability for the demand to be between two thresholds. These two thresholds will be centered on the demand average ($\\mu$) with a spread of $x$ times the standard deviation ($\\sigma$) in both directions. The more chaotic the demand (i. e., $\\sigma$ is big), the wider the thresholds.\n",
    "\n",
    "\n",
    "## Idea #3: Error Standard Deviation\n",
    "\n"
   ]
  },
  {
   "cell_type": "code",
   "execution_count": null,
   "metadata": {},
   "outputs": [],
   "source": []
  }
 ],
 "metadata": {
  "language_info": {
   "name": "python"
  },
  "orig_nbformat": 4
 },
 "nbformat": 4,
 "nbformat_minor": 2
}
