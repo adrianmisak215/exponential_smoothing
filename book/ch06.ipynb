{
 "cells": [
  {
   "cell_type": "markdown",
   "metadata": {},
   "source": [
    "# Chapter 6: Model Optimization\n",
    "\n",
    "We will implement a function exp_smooth_opti, that will test multiple models and return the best one."
   ]
  },
  {
   "cell_type": "code",
   "execution_count": 3,
   "metadata": {},
   "outputs": [
    {
     "name": "stdout",
     "output_type": "stream",
     "text": [
      "Best solution found for Simple Smoothing, alpha: 0.4 MAE of 2.7403547410075015\n"
     ]
    }
   ],
   "source": [
    "import support\n",
    "import numpy as np\n",
    "\n",
    "def exp_smooth_opti(d: list, extra_periods: int = 6):\n",
    "\n",
    "    params = []\n",
    "    KPIs = []\n",
    "    dfs = []\n",
    "\n",
    "    for alpha in [0.05, 0.1, 0.2, 0.3, 0.4, 0.5, 0.6]:\n",
    "\n",
    "        df = support.simple_exp_smooth(d, extra_periods=extra_periods, alpha=alpha)\n",
    "        MAE = df[\"error\"].abs().mean()\n",
    "\n",
    "        params.append(\"Simple Smoothing, alpha: {}\".format(alpha))\n",
    "        KPIs.append(MAE)\n",
    "        dfs.append(df)\n",
    "\n",
    "        for beta in [0.05, 0.1, 0.2, 0.3, 0.4]:\n",
    "\n",
    "            df = support.double_exp_smooth(d, extra_periods=extra_periods, alpha=alpha, beta=beta)\n",
    "            MAE = df[\"error\"].abs().mean()\n",
    "\n",
    "            params.append(\"Double Smoothing, alpha: {}, beta: {}\".format(alpha, beta))\n",
    "            KPIs.append(MAE)\n",
    "            dfs.append(df)\n",
    "\n",
    "    mini = np.argmin(KPIs)\n",
    "\n",
    "    print(\"Best solution found for {} MAE of {}\".format(params[mini], KPIs[mini]))\n",
    "\n",
    "    return dfs[mini]\n",
    "    \n",
    "d = [28,19,18,13,19,16,19,18,13,16,16,11,18,15,13,15,13,11,13,10,12]\n",
    "df = exp_smooth_opti(d)"
   ]
  },
  {
   "cell_type": "markdown",
   "metadata": {},
   "source": [
    "A beginner mistake is to allow a very wide range (from 0 to 1) for both $\\alpha, \\beta$. This might result in overfitting. A reasonable range for these parameters is between 0.05 and 0.6, as the value above 0.6 measn that the model is allocating nearly no importance to demand history, and the forecast is almost solely based on the latest observations. That would be a hist that something is wrong with the model."
   ]
  },
  {
   "cell_type": "code",
   "execution_count": null,
   "metadata": {},
   "outputs": [],
   "source": []
  }
 ],
 "metadata": {
  "kernelspec": {
   "display_name": "venv",
   "language": "python",
   "name": "python3"
  },
  "language_info": {
   "codemirror_mode": {
    "name": "ipython",
    "version": 3
   },
   "file_extension": ".py",
   "mimetype": "text/x-python",
   "name": "python",
   "nbconvert_exporter": "python",
   "pygments_lexer": "ipython3",
   "version": "3.11.5"
  },
  "orig_nbformat": 4
 },
 "nbformat": 4,
 "nbformat_minor": 2
}
